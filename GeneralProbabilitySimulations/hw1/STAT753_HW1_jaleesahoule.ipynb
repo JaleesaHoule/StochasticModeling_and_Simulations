{
 "cells": [
  {
   "cell_type": "code",
   "execution_count": 1,
   "id": "80c7b770",
   "metadata": {},
   "outputs": [],
   "source": [
    "import numpy as np\n",
    "from scipy.stats import binom, poisson, norm, laplace\n"
   ]
  },
  {
   "cell_type": "markdown",
   "id": "c0717ab1",
   "metadata": {},
   "source": [
    "## Problem 1: If a fair coin is flipped, find the probability that the first Head appears on the third toss. "
   ]
  },
  {
   "cell_type": "code",
   "execution_count": 2,
   "id": "2ce701d2",
   "metadata": {},
   "outputs": [
    {
     "name": "stdout",
     "output_type": "stream",
     "text": [
      "Probability of event {T,T,H} based on 1000 simulations: 0.129\n",
      "Theoretical probability of event {T,T,H}: 0.125\n",
      "Percent error: 3.2%\n"
     ]
    }
   ],
   "source": [
    "np.random.seed(10)\n",
    "toss_trials = []\n",
    "\n",
    "p=0.5 #probability for a fair coin\n",
    "N=1000 #desired simulations\n",
    "\n",
    "#define Heads=1, Tails=0\n",
    "for i in range(N):\n",
    "    toss_trials.append(np.random.binomial(1,p, size=3))\n",
    "    \n",
    "desired_outcome=[0,0,1]\n",
    "total_TTH_events = [toss_trials[i] for i in range(N) if all(toss_trials[i] == desired_outcome)== True]\n",
    "prob1 = (len(total_TTH_events)/N)\n",
    "print('Probability of event {T,T,H} based on 1000 simulations: %s' % prob1)\n",
    "print('Theoretical probability of event {T,T,H}: 0.125')\n",
    "print('Percent error: %s%%' % np.round(((prob1 - 0.125)/0.125)*100,3))"
   ]
  },
  {
   "cell_type": "markdown",
   "id": "e03d262d",
   "metadata": {},
   "source": [
    "## Problem 2:  Assume 100 houses are independently on fire, each with probability 2.5%. Find the probability that there are exactly 2 fires, using:"
   ]
  },
  {
   "cell_type": "markdown",
   "id": "3e5e3f5d",
   "metadata": {},
   "source": [
    "### (a) the binomial distribution"
   ]
  },
  {
   "cell_type": "code",
   "execution_count": 3,
   "id": "5ada111f",
   "metadata": {},
   "outputs": [
    {
     "name": "stdout",
     "output_type": "stream",
     "text": [
      "Probability of exactly 2 fires based on 1000 simulations with binomial dist: 0.263\n",
      "Theoretical probability of exactly 2 fires with binomial dist: 0.2588\n",
      "Percent error: 1.629%\n"
     ]
    }
   ],
   "source": [
    "np.random.seed(100)\n",
    "N=1000 #desired simulations\n",
    "n_houses=100\n",
    "p=0.025\n",
    "\n",
    "binomial_sample = np.random.binomial(n_houses, p, size=N)\n",
    "\n",
    "prob2a_sim = len([binomial_sample[k] for k in range(N) if binomial_sample[k]==2])/N\n",
    "\n",
    "prob2a_theory = binom.pmf(k=2, n=100, p=0.025)\n",
    "\n",
    "\n",
    "print('Probability of exactly 2 fires based on 1000 simulations with binomial dist: %s' % prob2a_sim)\n",
    "print('Theoretical probability of exactly 2 fires with binomial dist: %s' % np.round(prob2a_theory,4))\n",
    "print('Percent error: %s%%' % np.abs(np.round(((prob2a_sim - prob2a_theory)/prob2a_theory)*100,3)))"
   ]
  },
  {
   "cell_type": "markdown",
   "id": "953d8bc8",
   "metadata": {},
   "source": [
    "### (b) the Poisson approximation"
   ]
  },
  {
   "cell_type": "code",
   "execution_count": 4,
   "id": "c34b8a29",
   "metadata": {},
   "outputs": [
    {
     "name": "stdout",
     "output_type": "stream",
     "text": [
      "Probability of exactly 2 fires based on 1000 simulations with poisson dist: 0.273\n",
      "Theoretical probability of exactly 2 fires with poisson dist: 0.2565\n",
      "Percent error: 6.426%\n"
     ]
    }
   ],
   "source": [
    "np.random.seed(1000)\n",
    "N=1000 #desired simulations\n",
    "n_houses=100\n",
    "p=0.025\n",
    "poisson_sample = np.random.poisson(lam=n_houses*p,size=N)\n",
    "\n",
    "prob2b_sim = len([poisson_sample[k] for k in range(N) if poisson_sample[k]==2])/N\n",
    "prob2b_theory = poisson.pmf(k=2, mu=100*0.025)\n",
    "\n",
    "\n",
    "print('Probability of exactly 2 fires based on 1000 simulations with poisson dist: %s' % prob2b_sim)\n",
    "print('Theoretical probability of exactly 2 fires with poisson dist: %s' % np.round(prob2b_theory,4))\n",
    "print('Percent error: %s%%' % np.round(((prob2b_sim - prob2b_theory)/prob2b_theory)*100,3))"
   ]
  },
  {
   "cell_type": "markdown",
   "id": "670c25d0",
   "metadata": {},
   "source": [
    "## Problem 3: Historical annual returns of S&P 500 have mean 0.067 and standard deviation 0.165. Assuming they are independent, find the probability that the return is positive if the distribution is:"
   ]
  },
  {
   "cell_type": "markdown",
   "id": "12ee2d67",
   "metadata": {},
   "source": [
    "### (a) Gaussian"
   ]
  },
  {
   "cell_type": "code",
   "execution_count": 5,
   "id": "0a0b4da7",
   "metadata": {},
   "outputs": [
    {
     "name": "stdout",
     "output_type": "stream",
     "text": [
      "Probability of S&P 500 positive return with gaussian dist: 0.662\n",
      "Theoretical probability of S&P 500 positive return with gaussian dist: 0.6577\n",
      "Percent error: 0.661%\n"
     ]
    }
   ],
   "source": [
    "np.random.seed(1000)\n",
    "mu = 0.067\n",
    "sigma= 0.165\n",
    "N =1000\n",
    "gaussian_sample = np.random.normal(mu, sigma, N)\n",
    "\n",
    "prob3a_sim = len([gaussian_sample[k] for k in range(N) if gaussian_sample[k]>0])/N\n",
    "prob3a_theory = 1 - norm.cdf(0, mu, sigma)\n",
    "\n",
    "\n",
    "print('Probability of S&P 500 positive return with gaussian dist: %s' % prob3a_sim)\n",
    "print('Theoretical probability of S&P 500 positive return with gaussian dist: %s' % np.round(prob3a_theory,4))\n",
    "print('Percent error: %s%%' % np.round(((prob3a_sim - prob3a_theory)/prob3a_theory)*100,3))"
   ]
  },
  {
   "cell_type": "markdown",
   "id": "eca86a42",
   "metadata": {},
   "source": [
    "### (b) Laplace"
   ]
  },
  {
   "cell_type": "code",
   "execution_count": 6,
   "id": "00a6eda1",
   "metadata": {},
   "outputs": [
    {
     "name": "stdout",
     "output_type": "stream",
     "text": [
      "Probability of S&P 500 positive return with laplace dist: 0.652\n",
      "Theoretical probability of S&P 500 positive return with laplace dist: 0.6669\n",
      "Percent error: 2.229%\n"
     ]
    }
   ],
   "source": [
    "np.random.seed(1000)\n",
    "mu = 0.067\n",
    "sigma= 0.165\n",
    "N =1000\n",
    "laplace_sample = np.random.laplace(mu, sigma, N)\n",
    "\n",
    "prob3b_sim = len([laplace_sample[k] for k in range(N) if laplace_sample[k]>0])/N\n",
    "prob3b_theory = 1 - laplace.cdf(0, mu, sigma)\n",
    "\n",
    "\n",
    "print('Probability of S&P 500 positive return with laplace dist: %s' % prob3b_sim)\n",
    "print('Theoretical probability of S&P 500 positive return with laplace dist: %s' % np.round(prob3b_theory,4))\n",
    "print('Percent error: %s%%' % np.abs(np.round(((prob3b_sim - prob3b_theory)/prob3b_theory)*100,3)))"
   ]
  },
  {
   "cell_type": "code",
   "execution_count": null,
   "id": "1213a437",
   "metadata": {},
   "outputs": [],
   "source": []
  }
 ],
 "metadata": {
  "kernelspec": {
   "display_name": "Python 3 (ipykernel)",
   "language": "python",
   "name": "python3"
  },
  "language_info": {
   "codemirror_mode": {
    "name": "ipython",
    "version": 3
   },
   "file_extension": ".py",
   "mimetype": "text/x-python",
   "name": "python",
   "nbconvert_exporter": "python",
   "pygments_lexer": "ipython3",
   "version": "3.8.15"
  }
 },
 "nbformat": 4,
 "nbformat_minor": 5
}
