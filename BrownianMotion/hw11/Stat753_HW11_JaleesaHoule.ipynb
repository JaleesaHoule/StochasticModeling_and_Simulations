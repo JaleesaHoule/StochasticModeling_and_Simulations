{
 "cells": [
  {
   "cell_type": "code",
   "execution_count": 4,
   "id": "26734514",
   "metadata": {},
   "outputs": [],
   "source": [
    "import numpy as np \n",
    "import matplotlib.pyplot as plt\n",
    "import seaborn as sns"
   ]
  },
  {
   "cell_type": "markdown",
   "id": "aab41447",
   "metadata": {},
   "source": [
    "## Take a standard Brownian motion $W$. Find the probability that its maximum over [0,9] is greater than 5, and $W(9)>1$."
   ]
  },
  {
   "cell_type": "code",
   "execution_count": 5,
   "id": "37613ea7",
   "metadata": {},
   "outputs": [],
   "source": [
    "def brownian_motion_sim( dt, T, mu=0, sigma=1, x0=None):\n",
    "    N = int(T/dt)\n",
    "    BM = np.append(np.zeros(1),np.cumsum(np.random.normal(mu*dt, sigma*np.sqrt(dt), N)))\n",
    "    if x0 is not None:\n",
    "        BM= np.cumsum(np.append(x0, np.random.normal(mu*dt, sigma*np.sqrt(dt), N)))\n",
    "    time = np.linspace(0,T, N+1)    \n",
    "    \n",
    "    return BM, np.round(time,2)\n",
    "\n",
    "def find_value_at_T(values,jumptimes, T):\n",
    "    idx = np.where(jumptimes == T)[-1][-1]\n",
    "    return values[idx]"
   ]
  },
  {
   "cell_type": "code",
   "execution_count": 6,
   "id": "5b1dfb66",
   "metadata": {},
   "outputs": [],
   "source": [
    "dt = 0.01\n",
    "N = 10000\n",
    "T=9\n",
    "sims=[]\n",
    "np.random.seed(1000)\n",
    "for i in range(N):\n",
    "    a,b = brownian_motion_sim(dt, T)\n",
    "    sims.append(a)\n",
    "    time = b"
   ]
  },
  {
   "cell_type": "code",
   "execution_count": 9,
   "id": "05f4cc7c",
   "metadata": {},
   "outputs": [],
   "source": [
    "countw_9 = 0\n",
    "\n",
    "sims_idx=[]\n",
    "for i in range(N):\n",
    "    w_9 = find_value_at_T(sims[i], time, 9)\n",
    "    if (np.max(sims[i][:900])>5) and (w_9>1):\n",
    "        countw_9+=1\n"
   ]
  },
  {
   "cell_type": "code",
   "execution_count": 10,
   "id": "f9d62617",
   "metadata": {},
   "outputs": [
    {
     "name": "stdout",
     "output_type": "stream",
     "text": [
      "P(M(9)>5, W(9)>1)= 0.0912\n"
     ]
    }
   ],
   "source": [
    "print('P(M(9)>5, W(9)>1)=', countw_9/N)"
   ]
  },
  {
   "cell_type": "code",
   "execution_count": null,
   "id": "aef4b0f6",
   "metadata": {},
   "outputs": [],
   "source": []
  }
 ],
 "metadata": {
  "kernelspec": {
   "display_name": "Python 3 (ipykernel)",
   "language": "python",
   "name": "python3"
  },
  "language_info": {
   "codemirror_mode": {
    "name": "ipython",
    "version": 3
   },
   "file_extension": ".py",
   "mimetype": "text/x-python",
   "name": "python",
   "nbconvert_exporter": "python",
   "pygments_lexer": "ipython3",
   "version": "3.8.15"
  }
 },
 "nbformat": 4,
 "nbformat_minor": 5
}
