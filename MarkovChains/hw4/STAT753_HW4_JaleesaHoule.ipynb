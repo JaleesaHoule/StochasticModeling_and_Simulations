{
 "cells": [
  {
   "cell_type": "code",
   "execution_count": 1,
   "id": "940b27ae",
   "metadata": {},
   "outputs": [],
   "source": [
    "import numpy as np"
   ]
  },
  {
   "cell_type": "markdown",
   "id": "6d63f232",
   "metadata": {},
   "source": [
    "# Problem 1. \n",
    "\n",
    "## Simulate the Markov chain with transition matrix P 1000 times, starting from 2, until it hits 1 or 3. Find the empirical probability that it hits 1 before 3. Compare with the answer from Theory 1."
   ]
  },
  {
   "cell_type": "code",
   "execution_count": 2,
   "id": "299d3a57",
   "metadata": {},
   "outputs": [],
   "source": [
    "def MC_sim_1(P,N,x0):\n",
    "    sim = []\n",
    "    for i in range(1,N):\n",
    "        random_x = np.random.choice(np.arange(1,4), p = P[x0-1])\n",
    "        if random_x != 2:\n",
    "            sim.append(random_x)\n",
    "            break\n",
    "    return sim            "
   ]
  },
  {
   "cell_type": "code",
   "execution_count": 3,
   "id": "a09bfbd0",
   "metadata": {},
   "outputs": [],
   "source": [
    "P = np.array([[0.25,0.25,0.5],[(1/3), (1/3), (1/3)],[.5, .5, 0]])\n",
    "x0 = 2\n",
    "N = 1000"
   ]
  },
  {
   "cell_type": "code",
   "execution_count": 4,
   "id": "9d954824",
   "metadata": {},
   "outputs": [],
   "source": [
    "np.random.seed(1)\n",
    "sim_list = np.empty((N, 0)).tolist()\n",
    "for i in range(0,N):\n",
    "    sim_list[i] = MC_sim_1(P,N,x0) #run simulation N times"
   ]
  },
  {
   "cell_type": "code",
   "execution_count": 5,
   "id": "d83642de",
   "metadata": {},
   "outputs": [
    {
     "name": "stdout",
     "output_type": "stream",
     "text": [
      "Probability of hitting 1 or 3 first: [0.491 0.509]\n"
     ]
    }
   ],
   "source": [
    "unique_states, counts = np.unique(sim_list, return_counts=True)\n",
    "\n",
    "print('Probability of hitting 1 or 3 first:', counts/N)"
   ]
  },
  {
   "cell_type": "markdown",
   "id": "c901055f",
   "metadata": {},
   "source": [
    "# Problem 2. \n",
    "\n",
    "## Simulate the Markov chain with transition matrix A 1000 times, starting from 4, until it leaves transient states forever. Find the empirical average of number of steps spent at state 2. Compare with the answer from Theory 3.\n"
   ]
  },
  {
   "cell_type": "code",
   "execution_count": 6,
   "id": "9966db8b",
   "metadata": {},
   "outputs": [],
   "source": [
    "def MC_sim_2(P,N,x0, recurrent_states):\n",
    "    sim = []\n",
    "    sim.append(x0)\n",
    "    for i in range(1,N):\n",
    "        random_x = np.random.choice(np.arange(1,len(P)+1), p = P[sim[i-1]-1])\n",
    "        if random_x not in recurrent_states:\n",
    "            sim.append(random_x)\n",
    "        else:  \n",
    "            break\n",
    "    return sim  "
   ]
  },
  {
   "cell_type": "code",
   "execution_count": 7,
   "id": "4c5d1b58",
   "metadata": {},
   "outputs": [],
   "source": [
    "A = np.array([[0.5,0,0.5,0],[.25, .25, 0.2, 0.3],[1,0,0,0],[.25,.25,.25,.25]])\n",
    "x0= 4\n",
    "N=1000\n",
    "recurrent_states = [1,3]"
   ]
  },
  {
   "cell_type": "code",
   "execution_count": 8,
   "id": "caadb54b",
   "metadata": {},
   "outputs": [],
   "source": [
    "np.random.seed(1)\n",
    "sim_list = np.empty((N, 0)).tolist()\n",
    "for i in range(0,N):\n",
    "    sim_list[i] = MC_sim_2(A,N,x0,recurrent_states)"
   ]
  },
  {
   "cell_type": "code",
   "execution_count": 9,
   "id": "6595036d",
   "metadata": {},
   "outputs": [
    {
     "name": "stdout",
     "output_type": "stream",
     "text": [
      "mean steps spent at state 2: 0.487\n"
     ]
    }
   ],
   "source": [
    "count_2= []\n",
    "for i,numbers in enumerate(sim_list):\n",
    "    count_2.append(numbers.count(2))\n",
    "    \n",
    "print('mean steps spent at state 2:', np.mean(count_2))    "
   ]
  },
  {
   "cell_type": "markdown",
   "id": "b4e66cad",
   "metadata": {},
   "source": [
    "### extra calculations to check theoretical solutions - not included on latex pdf submission since they were calculated manually in the theory section"
   ]
  },
  {
   "cell_type": "code",
   "execution_count": 10,
   "id": "4044c61d",
   "metadata": {},
   "outputs": [
    {
     "name": "stdout",
     "output_type": "stream",
     "text": [
      "[0.66666667 0.         0.33333333 0.        ]\n"
     ]
    }
   ],
   "source": [
    "## finding stationary distribution using eigenvalues and vectors\n",
    "\n",
    "# Calculate the eigenvalues and eigenvectors\n",
    "eigenvalues, eigenvectors = np.linalg.eig(A.T)\n",
    "# Find the index of the eigenvalue corresponding to the largest real part\n",
    "idx = np.argmax(np.real(eigenvalues))\n",
    "# Extract the corresponding eigenvector\n",
    "v = np.real(eigenvectors[:, idx])\n",
    "# Normalize the eigenvector to get the stationary distribution\n",
    "v = v / np.sum(v)\n",
    "print(v)"
   ]
  },
  {
   "cell_type": "code",
   "execution_count": 11,
   "id": "72c6b71c",
   "metadata": {},
   "outputs": [
    {
     "name": "stdout",
     "output_type": "stream",
     "text": [
      "[[1.53846154 0.61538462]\n",
      " [0.51282051 1.53846154]]\n"
     ]
    }
   ],
   "source": [
    "#empirical means of transient states\n",
    "A_T = np.array([[0.25,0.3],[0.25,0.25]]) #transient states 2,4\n",
    "means = np.linalg.inv(np.eye(2)-A_T)\n",
    "print(means)"
   ]
  },
  {
   "cell_type": "code",
   "execution_count": null,
   "id": "e7a430a0",
   "metadata": {},
   "outputs": [],
   "source": []
  }
 ],
 "metadata": {
  "kernelspec": {
   "display_name": "Python 3 (ipykernel)",
   "language": "python",
   "name": "python3"
  },
  "language_info": {
   "codemirror_mode": {
    "name": "ipython",
    "version": 3
   },
   "file_extension": ".py",
   "mimetype": "text/x-python",
   "name": "python",
   "nbconvert_exporter": "python",
   "pygments_lexer": "ipython3",
   "version": "3.8.15"
  }
 },
 "nbformat": 4,
 "nbformat_minor": 5
}
