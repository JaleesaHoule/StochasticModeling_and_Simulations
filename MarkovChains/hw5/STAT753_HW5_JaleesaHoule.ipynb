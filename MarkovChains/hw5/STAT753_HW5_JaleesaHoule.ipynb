{
 "cells": [
  {
   "cell_type": "code",
   "execution_count": 1,
   "id": "cd8d860b",
   "metadata": {},
   "outputs": [],
   "source": [
    "import numpy as np"
   ]
  },
  {
   "cell_type": "markdown",
   "id": "8b327be9",
   "metadata": {},
   "source": [
    "# Problem 1\n",
    "\n",
    "## Consider the continuous-time Markov chain on the state space with the generator A\n"
   ]
  },
  {
   "cell_type": "code",
   "execution_count": 2,
   "id": "8c8adeac",
   "metadata": {},
   "outputs": [],
   "source": [
    "A = np.array([[-2,1,1],[3,-4,1],[1,0,-1]])"
   ]
  },
  {
   "cell_type": "markdown",
   "id": "f642d7d0",
   "metadata": {},
   "source": [
    "### a) Find its stationary distribution."
   ]
  },
  {
   "cell_type": "code",
   "execution_count": 3,
   "id": "8ec23a68",
   "metadata": {},
   "outputs": [
    {
     "name": "stdout",
     "output_type": "stream",
     "text": [
      "Stationary distribution =  [0.4 0.1 0.5]\n"
     ]
    }
   ],
   "source": [
    "# Calculate the eigenvalues and eigenvectors\n",
    "eigenvalues, eigenvectors = np.linalg.eig(A.T)\n",
    "# Find the index of the eigenvalue corresponding to the largest real part (should be 0 for CTMC)\n",
    "idx = np.argmax(np.real(eigenvalues))\n",
    "# Extract the corresponding eigenvector\n",
    "v = np.real(eigenvectors[:, idx])\n",
    "# Normalize the eigenvector to get the stationary distribution\n",
    "v = v / np.sum(v)\n",
    "print('Stationary distribution = ', v)"
   ]
  },
  {
   "cell_type": "markdown",
   "id": "f1f4e8ce",
   "metadata": {},
   "source": [
    "### b) Find the probability that at state 2, we spend more than 0.4 time at this state before jumping away."
   ]
  },
  {
   "cell_type": "code",
   "execution_count": 4,
   "id": "9d6875df",
   "metadata": {},
   "outputs": [],
   "source": [
    "sim = [np.random.choice([0,1,2])]\n",
    "jump_time = [0]\n",
    "time1 = []\n",
    "time2_long=[]\n",
    "time2_short = []\n",
    "N = 1000"
   ]
  },
  {
   "cell_type": "code",
   "execution_count": 5,
   "id": "cbb8f2e7",
   "metadata": {},
   "outputs": [],
   "source": [
    "np.random.seed(1)\n",
    "\n",
    "for k in range(N):\n",
    "    if sim[-1] == 0:\n",
    "        clock01 = np.random.exponential(1/A[0,1])\n",
    "        clock02 = np.random.exponential(1/A[0,2])\n",
    "        if clock01 < clock02:\n",
    "            jump_time.append(jump_time[-1]+clock01)\n",
    "            sim.append(1)\n",
    "            time1.append(clock01)\n",
    "        else:\n",
    "            jump_time.append(jump_time[-1]+clock02)\n",
    "            sim.append(2)\n",
    "            time1.append(clock02)\n",
    "    \n",
    "    if sim[-1] == 1:\n",
    "        clock10 = np.random.exponential(1/A[1,0])\n",
    "        clock12 = np.random.exponential(1/A[1,2])\n",
    "        if clock10 < clock12:\n",
    "            jump_time.append(jump_time[-1]+clock10)\n",
    "            sim.append(0)\n",
    "            if clock10 > 0.4:\n",
    "                time2_long.append(clock10)\n",
    "            else:\n",
    "                time2_short.append(clock10)\n",
    "        else:\n",
    "            jump_time.append(jump_time[-1]+clock12)\n",
    "            sim.append(2) \n",
    "            if clock12 > 0.4:\n",
    "                time2_long.append(clock12)\n",
    "            else:\n",
    "                time2_short.append(clock12)\n",
    "\n",
    "    if sim[-1] == 2:\n",
    "        clock20 = np.random.exponential(1/A[2,0])\n",
    "        sim.append(0)\n",
    "        jump_time.append(jump_time[-1]+clock20)\n"
   ]
  },
  {
   "cell_type": "code",
   "execution_count": 6,
   "id": "080cb291",
   "metadata": {},
   "outputs": [
    {
     "name": "stdout",
     "output_type": "stream",
     "text": [
      "Probability of spending more than 0.4 time in state 2: 0.19083969465648856\n"
     ]
    }
   ],
   "source": [
    "print('Probability of spending more than 0.4 time in state 2:', len(time2_long )/ (len(time2_long) + len(time2_short)))"
   ]
  },
  {
   "cell_type": "markdown",
   "id": "7faff759",
   "metadata": {},
   "source": [
    "### c) Find the mean, the median, and the standard deviation of time it spends at state 1 before jumping away."
   ]
  },
  {
   "cell_type": "code",
   "execution_count": 7,
   "id": "af00d312",
   "metadata": {
    "scrolled": true
   },
   "outputs": [
    {
     "name": "stdout",
     "output_type": "stream",
     "text": [
      "Mean time spent in state 1: 0.5031187856863066\n",
      "Median time spent in state 1: 0.3505871329268793\n",
      "Standard deviation of time spent in state 1: 0.49721348521914427\n"
     ]
    }
   ],
   "source": [
    "print('Mean time spent in state 1:', np.mean(time1))\n",
    "print('Median time spent in state 1:', np.median(time1))\n",
    "print('Standard deviation of time spent in state 1:', np.std(time1))"
   ]
  },
  {
   "cell_type": "markdown",
   "id": "05f8e754",
   "metadata": {},
   "source": [
    "### d) Find the corresponding discrete-time Markov chain, and its own stationary distribution."
   ]
  },
  {
   "cell_type": "code",
   "execution_count": 8,
   "id": "bde38ab3",
   "metadata": {},
   "outputs": [
    {
     "name": "stdout",
     "output_type": "stream",
     "text": [
      "Transition matrix \n",
      " P= \n",
      " [[0.   0.5  0.5 ]\n",
      " [0.75 0.   0.25]\n",
      " [1.   0.   0.  ]]\n"
     ]
    }
   ],
   "source": [
    "l = -np.diagonal(A) #exit rates\n",
    "P = A / l[:,None] # scale each row by corresponding exit rate\n",
    "np.fill_diagonal(P, 0) #make diagonal elements 0\n",
    "print('Transition matrix \\n P= \\n', P)"
   ]
  },
  {
   "cell_type": "code",
   "execution_count": 9,
   "id": "f5693015",
   "metadata": {},
   "outputs": [
    {
     "name": "stdout",
     "output_type": "stream",
     "text": [
      "Stationary distribution =  [0.47058824 0.23529412 0.29411765]\n"
     ]
    }
   ],
   "source": [
    "# Calculate the eigenvalues and eigenvectors\n",
    "eigenvalues, eigenvectors = np.linalg.eig(P.T)\n",
    "# Find the index of the eigenvalue corresponding to the largest real part\n",
    "idx = np.argmax(np.real(eigenvalues))\n",
    "# Extract the corresponding eigenvector\n",
    "v = np.real(eigenvectors[:, idx])\n",
    "# Normalize the eigenvector to get the stationary distribution\n",
    "v = v / np.sum(v)\n",
    "print('Stationary distribution = ', v)"
   ]
  },
  {
   "cell_type": "code",
   "execution_count": null,
   "id": "9b1a4fc6",
   "metadata": {},
   "outputs": [],
   "source": []
  }
 ],
 "metadata": {
  "kernelspec": {
   "display_name": "Python 3 (ipykernel)",
   "language": "python",
   "name": "python3"
  },
  "language_info": {
   "codemirror_mode": {
    "name": "ipython",
    "version": 3
   },
   "file_extension": ".py",
   "mimetype": "text/x-python",
   "name": "python",
   "nbconvert_exporter": "python",
   "pygments_lexer": "ipython3",
   "version": "3.8.15"
  }
 },
 "nbformat": 4,
 "nbformat_minor": 5
}
