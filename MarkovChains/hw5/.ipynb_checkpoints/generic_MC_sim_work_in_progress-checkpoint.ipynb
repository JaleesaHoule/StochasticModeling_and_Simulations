{
 "cells": [
  {
   "cell_type": "code",
   "execution_count": 1,
   "id": "e3b21540",
   "metadata": {},
   "outputs": [],
   "source": [
    "import numpy as np"
   ]
  },
  {
   "cell_type": "code",
   "execution_count": 37,
   "id": "3f19340e",
   "metadata": {},
   "outputs": [],
   "source": [
    "def compare_clocks(state, A):\n",
    "    if len(state)==0: \n",
    "        state = [np.random.choice([1,2,3])]\n",
    "    idx=state[-1]-1\n",
    "    rates = np.delete(A[idx], idx) #get off diagonal rates\n",
    "    time = np.random.exponential(1/rates) #get random times for each rate\n",
    "    faster_time = np.min(time)\n",
    "    times = np.insert(time, idx, 100) #add back generic large number to get indexes correct for new state\n",
    "    new_state = np.where(times==np.min(times))[0]\n",
    "    return new_state+1, faster_time"
   ]
  },
  {
   "cell_type": "code",
   "execution_count": 26,
   "id": "83338a9f",
   "metadata": {},
   "outputs": [],
   "source": [
    "A = np.array([[-2,1,1],[3,-4,1],[1,0,-1]])\n",
    "N=100"
   ]
  },
  {
   "cell_type": "code",
   "execution_count": 38,
   "id": "0b68c4a9",
   "metadata": {
    "scrolled": true
   },
   "outputs": [
    {
     "name": "stderr",
     "output_type": "stream",
     "text": [
      "/var/folders/0c/q32x1j5s1zqg0747td81nt840000gn/T/ipykernel_32348/300009299.py:6: RuntimeWarning: divide by zero encountered in true_divide\n",
      "  time = np.random.exponential(1/rates) #get random times for each rate\n"
     ]
    }
   ],
   "source": [
    "states = []\n",
    "time_history = [0]\n",
    "for k in range(N):\n",
    "    new_state, faster_time = compare_clocks(states, A)\n",
    "    states.append(new_state)\n",
    "    time_history.append(time_history[-1]+ faster_time)\n",
    "        "
   ]
  },
  {
   "cell_type": "code",
   "execution_count": 40,
   "id": "5b660d1d",
   "metadata": {},
   "outputs": [
    {
     "ename": "ZeroDivisionError",
     "evalue": "division by zero",
     "output_type": "error",
     "traceback": [
      "\u001b[0;31m---------------------------------------------------------------------------\u001b[0m",
      "\u001b[0;31mZeroDivisionError\u001b[0m                         Traceback (most recent call last)",
      "\u001b[0;32m/var/folders/0c/q32x1j5s1zqg0747td81nt840000gn/T/ipykernel_32348/4027124628.py\u001b[0m in \u001b[0;36m<module>\u001b[0;34m\u001b[0m\n\u001b[0;32m----> 1\u001b[0;31m \u001b[0mnp\u001b[0m\u001b[0;34m.\u001b[0m\u001b[0mrandom\u001b[0m\u001b[0;34m.\u001b[0m\u001b[0mexponential\u001b[0m\u001b[0;34m(\u001b[0m\u001b[0;36m1\u001b[0m\u001b[0;34m/\u001b[0m\u001b[0;36m0\u001b[0m\u001b[0;34m)\u001b[0m\u001b[0;34m\u001b[0m\u001b[0;34m\u001b[0m\u001b[0m\n\u001b[0m",
      "\u001b[0;31mZeroDivisionError\u001b[0m: division by zero"
     ]
    }
   ],
   "source": [
    "np.random.exponential(1/0)"
   ]
  },
  {
   "cell_type": "code",
   "execution_count": 31,
   "id": "faef1584",
   "metadata": {},
   "outputs": [
    {
     "ename": "TypeError",
     "evalue": "int() argument must be a string, a bytes-like object or a number, not 'tuple'",
     "output_type": "error",
     "traceback": [
      "\u001b[0;31m---------------------------------------------------------------------------\u001b[0m",
      "\u001b[0;31mTypeError\u001b[0m                                 Traceback (most recent call last)",
      "\u001b[0;32m/var/folders/0c/q32x1j5s1zqg0747td81nt840000gn/T/ipykernel_32348/3035836523.py\u001b[0m in \u001b[0;36m<module>\u001b[0;34m\u001b[0m\n\u001b[1;32m      4\u001b[0m \u001b[0mfaster_time\u001b[0m \u001b[0;34m=\u001b[0m \u001b[0mnp\u001b[0m\u001b[0;34m.\u001b[0m\u001b[0mmin\u001b[0m\u001b[0;34m(\u001b[0m\u001b[0mtime\u001b[0m\u001b[0;34m)\u001b[0m\u001b[0;34m\u001b[0m\u001b[0;34m\u001b[0m\u001b[0m\n\u001b[1;32m      5\u001b[0m \u001b[0mtimes\u001b[0m \u001b[0;34m=\u001b[0m \u001b[0mnp\u001b[0m\u001b[0;34m.\u001b[0m\u001b[0minsert\u001b[0m\u001b[0;34m(\u001b[0m\u001b[0mtime\u001b[0m\u001b[0;34m,\u001b[0m \u001b[0midx\u001b[0m\u001b[0;34m,\u001b[0m \u001b[0;36m100\u001b[0m\u001b[0;34m)\u001b[0m \u001b[0;31m#add back generic large number to get indexes correct for new state\u001b[0m\u001b[0;34m\u001b[0m\u001b[0;34m\u001b[0m\u001b[0m\n\u001b[0;32m----> 6\u001b[0;31m \u001b[0mnew_state\u001b[0m \u001b[0;34m=\u001b[0m \u001b[0mint\u001b[0m\u001b[0;34m(\u001b[0m\u001b[0mnp\u001b[0m\u001b[0;34m.\u001b[0m\u001b[0mwhere\u001b[0m\u001b[0;34m(\u001b[0m\u001b[0mtimes\u001b[0m\u001b[0;34m==\u001b[0m\u001b[0mnp\u001b[0m\u001b[0;34m.\u001b[0m\u001b[0mmin\u001b[0m\u001b[0;34m(\u001b[0m\u001b[0mtimes\u001b[0m\u001b[0;34m)\u001b[0m\u001b[0;34m)\u001b[0m\u001b[0;34m)\u001b[0m\u001b[0;34m\u001b[0m\u001b[0;34m\u001b[0m\u001b[0m\n\u001b[0m",
      "\u001b[0;31mTypeError\u001b[0m: int() argument must be a string, a bytes-like object or a number, not 'tuple'"
     ]
    }
   ],
   "source": [
    "idx=state[-1]-1\n",
    "rates = np.delete(A[idx], idx) #get off diagonal rates\n",
    "time = np.random.exponential(1/rates) #get random times for each rate\n",
    "faster_time = np.min(time)\n",
    "times = np.insert(time, idx, 100) #add back generic large number to get indexes correct for new state\n",
    "new_state = int(np.where(times==np.min(times)))"
   ]
  },
  {
   "cell_type": "code",
   "execution_count": 36,
   "id": "a220e92a",
   "metadata": {},
   "outputs": [
    {
     "data": {
      "text/plain": [
       "array([1])"
      ]
     },
     "execution_count": 36,
     "metadata": {},
     "output_type": "execute_result"
    }
   ],
   "source": [
    "np.where(times==np.min(times))[0]"
   ]
  },
  {
   "cell_type": "code",
   "execution_count": 14,
   "id": "e986232d",
   "metadata": {},
   "outputs": [
    {
     "data": {
      "text/plain": [
       "0"
      ]
     },
     "execution_count": 14,
     "metadata": {},
     "output_type": "execute_result"
    }
   ],
   "source": [
    "state= []\n",
    "\n",
    "len(state)"
   ]
  },
  {
   "cell_type": "code",
   "execution_count": 20,
   "id": "d1330797",
   "metadata": {},
   "outputs": [],
   "source": [
    "state = [1]"
   ]
  },
  {
   "cell_type": "code",
   "execution_count": 21,
   "id": "079fb361",
   "metadata": {},
   "outputs": [
    {
     "data": {
      "text/plain": [
       "1"
      ]
     },
     "execution_count": 21,
     "metadata": {},
     "output_type": "execute_result"
    }
   ],
   "source": [
    "state[-1]"
   ]
  },
  {
   "cell_type": "code",
   "execution_count": null,
   "id": "9b924f39",
   "metadata": {},
   "outputs": [],
   "source": []
  }
 ],
 "metadata": {
  "kernelspec": {
   "display_name": "Python 3 (ipykernel)",
   "language": "python",
   "name": "python3"
  },
  "language_info": {
   "codemirror_mode": {
    "name": "ipython",
    "version": 3
   },
   "file_extension": ".py",
   "mimetype": "text/x-python",
   "name": "python",
   "nbconvert_exporter": "python",
   "pygments_lexer": "ipython3",
   "version": "3.8.15"
  }
 },
 "nbformat": 4,
 "nbformat_minor": 5
}
