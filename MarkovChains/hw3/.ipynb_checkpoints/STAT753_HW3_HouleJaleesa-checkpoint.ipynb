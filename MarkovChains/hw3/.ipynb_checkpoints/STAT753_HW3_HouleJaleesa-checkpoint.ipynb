{
 "cells": [
  {
   "cell_type": "code",
   "execution_count": 1,
   "id": "fa901301",
   "metadata": {},
   "outputs": [],
   "source": [
    "import numpy as np\n",
    "import matplotlib.pyplot as plt"
   ]
  },
  {
   "cell_type": "markdown",
   "id": "13328620",
   "metadata": {},
   "source": [
    "# Problem 1. \n",
    "## Simulate N=5000 steps of this Markov chain if the initial distribution is X0=2."
   ]
  },
  {
   "cell_type": "code",
   "execution_count": 2,
   "id": "337ff5af",
   "metadata": {},
   "outputs": [],
   "source": [
    "#transition matrix\n",
    "P = np.array([[0.3, 0.7, 0],\n",
    "              [0.3, 0.4, 0.3],\n",
    "              [0, 0.7, 0.3]])\n",
    "\n",
    "x0 = 2 #initial state\n",
    "N = 5000\n",
    "sim = []\n",
    "sim.append(x0)"
   ]
  },
  {
   "cell_type": "code",
   "execution_count": 3,
   "id": "213b50cf",
   "metadata": {},
   "outputs": [
    {
     "name": "stdout",
     "output_type": "stream",
     "text": [
      "5000\n"
     ]
    }
   ],
   "source": [
    "np.random.seed(1)\n",
    "for i in range(1, N):\n",
    "        current_prob = P[sim[i-1]-1] #get the row associated with the current state\n",
    "        new_state = np.random.choice(np.arange(1, 4), p=current_prob) #choose new value between 1-3\n",
    "        sim.append(new_state)\n",
    "        \n",
    "print(len(sim))        "
   ]
  },
  {
   "cell_type": "markdown",
   "id": "d9954427",
   "metadata": {},
   "source": [
    "## Compute shares of times when this simulation is in state 1, state 2, and state 3. \n",
    "## Compare with the stationary distribution in Theory 1."
   ]
  },
  {
   "cell_type": "code",
   "execution_count": 4,
   "id": "f0c94c97",
   "metadata": {},
   "outputs": [
    {
     "data": {
      "image/png": "[encoded data removed]",
      "text/plain": [
       "<Figure size 640x480 with 1 Axes>"
      ]
     },
     "metadata": {},
     "output_type": "display_data"
    }
   ],
   "source": [
    "# plot distribution of states and get estimated stationary distro\n",
    "plt.hist(sim, bins=np.arange(1, P.shape[0] + 2)-0.5, color='grey', alpha=.5)\n",
    "plt.title(\"Distribution of states over 5000 steps\")\n",
    "plt.xlabel(\"State\")\n",
    "plt.ylabel(\"Steps\")\n",
    "plt.xticks([1,2,3])\n",
    "plt.show()"
   ]
  },
  {
   "cell_type": "code",
   "execution_count": 6,
   "id": "9486265c",
   "metadata": {},
   "outputs": [
    {
     "name": "stdout",
     "output_type": "stream",
     "text": [
      "Distribution after 5000 steps: [0.2332 0.5364 0.2304]\n"
     ]
    }
   ],
   "source": [
    "unique_states, counts = np.unique(sim, return_counts=True)\n",
    "print('Distribution after 5000 steps:', counts/N)"
   ]
  },
  {
   "cell_type": "markdown",
   "id": "d6d26cc5",
   "metadata": {},
   "source": [
    "# Problem 2. \n",
    "## Simulate the two steps of this MC 1000 times if the initial distribution is [0.5 0.5 0]\n",
    "## and compute empirical distribution at time step 2. Compare with the Theory 2. "
   ]
  },
  {
   "cell_type": "code",
   "execution_count": 7,
   "id": "b1f8b13f",
   "metadata": {},
   "outputs": [],
   "source": [
    "np.random.seed(1)\n",
    "N = 1000\n",
    "distro_step1 = []\n",
    "distro_step2 = []\n",
    "x0_prob = np.array([0.5, 0.5, 0])\n",
    "for i in range(0,N):\n",
    "    step0_state = np.random.choice(np.arange(1,4), p =x0_prob) #returns a 1 or 2 \n",
    "    \n",
    "    x1_prob = P[int(step0_state)-1] #get the row associated with the current state\n",
    "    step1_state = np.random.choice(np.arange(1, 4), p=x1_prob) #choose new value between 1-3\n",
    "    distro_step1.append(step1_state)\n",
    "    \n",
    "    \n",
    "    x2_prob = P[int(step1_state)-1] #get the row associated with the current state\n",
    "    step2_state = np.random.choice(np.arange(1, 4), p=x2_prob) #choose new value between 1-3\n",
    "    distro_step2.append(step2_state)"
   ]
  },
  {
   "cell_type": "code",
   "execution_count": 8,
   "id": "091fe378",
   "metadata": {},
   "outputs": [
    {
     "name": "stdout",
     "output_type": "stream",
     "text": [
      "Step 1 distribution after 1000 simulations: [0.295 0.558 0.147]\n"
     ]
    }
   ],
   "source": [
    "unique_states, counts = np.unique(distro_step1, return_counts=True)\n",
    "\n",
    "print('Step 1 distribution after 1000 simulations:', counts/N)"
   ]
  },
  {
   "cell_type": "code",
   "execution_count": 9,
   "id": "76f5ea87",
   "metadata": {},
   "outputs": [
    {
     "name": "stdout",
     "output_type": "stream",
     "text": [
      "Step 2 distribution after 1000 simulations: [0.258 0.539 0.203]\n"
     ]
    }
   ],
   "source": [
    "unique_states, counts = np.unique(distro_step2, return_counts=True)\n",
    "\n",
    "print('Step 2 distribution after 1000 simulations:', counts/N)"
   ]
  },
  {
   "cell_type": "code",
   "execution_count": null,
   "id": "4634ba4b",
   "metadata": {},
   "outputs": [],
   "source": []
  }
 ],
 "metadata": {
  "kernelspec": {
   "display_name": "Python 3 (ipykernel)",
   "language": "python",
   "name": "python3"
  },
  "language_info": {
   "codemirror_mode": {
    "name": "ipython",
    "version": 3
   },
   "file_extension": ".py",
   "mimetype": "text/x-python",
   "name": "python",
   "nbconvert_exporter": "python",
   "pygments_lexer": "ipython3",
   "version": "3.8.15"
  }
 },
 "nbformat": 4,
 "nbformat_minor": 5
}
