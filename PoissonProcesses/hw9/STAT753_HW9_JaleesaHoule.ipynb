{
 "cells": [
  {
   "cell_type": "code",
   "execution_count": 1,
   "id": "f002ed95",
   "metadata": {},
   "outputs": [],
   "source": [
    "import numpy as np\n",
    "import pandas as pd\n",
    "import scipy"
   ]
  },
  {
   "cell_type": "code",
   "execution_count": null,
   "id": "86b31df0",
   "metadata": {},
   "outputs": [],
   "source": [
    "### for plotting as Processes as step function\n",
    "\n",
    "for i in range(10):\n",
    "    fig, ax = plt.subplots(ncols=2, figsize=(10,4))\n",
    "    y = events[i][:-1]\n",
    "    y1 = compound_events[i][:-1]\n",
    "    x = taus[i]\n",
    "    ax[0].hlines(y, x[:-1],x[1:], )\n",
    "    ax[1].hlines(y1, x[:-1],x[1:], )  "
   ]
  },
  {
   "cell_type": "code",
   "execution_count": 2,
   "id": "feaae5db",
   "metadata": {},
   "outputs": [],
   "source": [
    "def simulate_poisson_process(l,t,mu):\n",
    "    jumpTimes= np.append(np.zeros(1),np.cumsum(np.random.exponential(scale=1/l, size=t)))\n",
    "    values= np.arange(0, t+1)\n",
    "    compound_values=  np.append(np.zeros(1), np.cumsum(np.random.exponential(scale=mu, size=t)))\n",
    "    return values, compound_values, jumpTimes\n",
    "\n",
    "def find_value_at_T(values,jumptimes, T):\n",
    "    idx = np.where(jumptimes<T)[-1][-1]\n",
    "    return values[idx]\n",
    "\n"
   ]
  },
  {
   "cell_type": "markdown",
   "id": "e2ef41e5",
   "metadata": {},
   "source": [
    "## 1. For the Poisson process $N=(N(t), t \\geq 0)$ with rate $\\lambda=1.2$. Assume $\\tau_k$ is the time of the kth jump, find: \n"
   ]
  },
  {
   "cell_type": "code",
   "execution_count": 3,
   "id": "87398da8",
   "metadata": {},
   "outputs": [],
   "source": [
    "N = 10000\n",
    "l = 1.2\n",
    "mu=2.5\n",
    "timesteps=1500"
   ]
  },
  {
   "cell_type": "code",
   "execution_count": 4,
   "id": "93941ecb",
   "metadata": {},
   "outputs": [],
   "source": [
    "events=[]\n",
    "compound_events = []\n",
    "taus = []\n",
    "np.random.seed(12345)\n",
    "for i in range(N):\n",
    "    a,b,c = simulate_poisson_process(l,timesteps,mu)\n",
    "    events.append(a)\n",
    "    compound_events.append(b)\n",
    "    taus.append(c)"
   ]
  },
  {
   "cell_type": "code",
   "execution_count": 5,
   "id": "bb44e0f3",
   "metadata": {},
   "outputs": [],
   "source": [
    "values_at_t2 = []\n",
    "\n",
    "for i in range(N):\n",
    "    values_at_t2.append(find_value_at_T(events[i], taus[i], 2))\n",
    "\n",
    "P1= values_at_t2.count(3)/N\n"
   ]
  },
  {
   "cell_type": "markdown",
   "id": "fb0241a9",
   "metadata": {},
   "source": [
    "### A. $\\mathbb{P}(N(2)=3)$\n"
   ]
  },
  {
   "cell_type": "code",
   "execution_count": 6,
   "id": "5e400fb9",
   "metadata": {},
   "outputs": [
    {
     "name": "stdout",
     "output_type": "stream",
     "text": [
      "P(N(2)=3)= 0.2096\n"
     ]
    }
   ],
   "source": [
    "print('P(N(2)=3)=', P1)"
   ]
  },
  {
   "cell_type": "markdown",
   "id": "35584a8f",
   "metadata": {},
   "source": [
    "### B.  $\\mathbb{P}(N(2)=3, N(5)=6, N(10) \\geq 9) $ "
   ]
  },
  {
   "cell_type": "code",
   "execution_count": 7,
   "id": "60bb18b0",
   "metadata": {},
   "outputs": [],
   "source": [
    "P2_count = 0\n",
    "\n",
    "values_at_t2 = []\n",
    "values_at_t5 = []\n",
    "values_at_t10 = []\n",
    "\n",
    "for i in range(N):\n",
    "    values_at_t2.append(find_value_at_T(events[i], taus[i], 2))\n",
    "    values_at_t5.append(find_value_at_T(events[i], taus[i], 5))\n",
    "    values_at_t10.append(find_value_at_T(events[i], taus[i], 10))\n",
    "    \n",
    "    if (values_at_t2[i] ==3) and (values_at_t5[i] ==6) and (values_at_t10[i] >=9):\n",
    "        P2_count+=1\n",
    "\n",
    "P2=P2_count/N"
   ]
  },
  {
   "cell_type": "code",
   "execution_count": 8,
   "id": "63f592b3",
   "metadata": {},
   "outputs": [
    {
     "name": "stdout",
     "output_type": "stream",
     "text": [
      "P((N(2)=3, N(5)=6, N(10)>=9)=  0.0414\n"
     ]
    }
   ],
   "source": [
    "print('P((N(2)=3, N(5)=6, N(10)>=9)= ', P2)"
   ]
  },
  {
   "cell_type": "markdown",
   "id": "239c119c",
   "metadata": {},
   "source": [
    "### C. $\\mathbb{E}[ e^{2N(0.5)} ]$"
   ]
  },
  {
   "cell_type": "code",
   "execution_count": 9,
   "id": "7301bc7f",
   "metadata": {},
   "outputs": [],
   "source": [
    "values_at_t_1half = []\n",
    "\n",
    "for i in range(N):\n",
    "    values_at_t_1half.append(find_value_at_T(events[i], taus[i],0.5))\n",
    "    "
   ]
  },
  {
   "cell_type": "code",
   "execution_count": 10,
   "id": "6e1c7f73",
   "metadata": {},
   "outputs": [
    {
     "name": "stdout",
     "output_type": "stream",
     "text": [
      "E[e^2N(0.5)]= 44.21546876964519\n"
     ]
    }
   ],
   "source": [
    "print('E[e^2N(0.5)]=', np.mean(np.exp(2*np.array(values_at_t_1half))))"
   ]
  },
  {
   "cell_type": "code",
   "execution_count": 21,
   "id": "f3e7f8f6",
   "metadata": {},
   "outputs": [
    {
     "data": {
      "text/plain": [
       "0"
      ]
     },
     "execution_count": 21,
     "metadata": {},
     "output_type": "execute_result"
    }
   ],
   "source": [
    "np.min(np.array(values_at_t_1half))"
   ]
  },
  {
   "cell_type": "markdown",
   "id": "c1177cfc",
   "metadata": {},
   "source": [
    "### D. $\\mathbb{E}[ \\tau_2 ]$ "
   ]
  },
  {
   "cell_type": "code",
   "execution_count": 11,
   "id": "dfa9ed22",
   "metadata": {},
   "outputs": [],
   "source": [
    "tau2 = []\n",
    "\n",
    "for i in range(N):\n",
    "    tau2.append(taus[i][2])"
   ]
  },
  {
   "cell_type": "code",
   "execution_count": 12,
   "id": "d6c65fb9",
   "metadata": {},
   "outputs": [
    {
     "name": "stdout",
     "output_type": "stream",
     "text": [
      "E[tau_2]= 1.670915291003944\n"
     ]
    }
   ],
   "source": [
    "print('E[tau_2]=', np.mean(tau2))"
   ]
  },
  {
   "cell_type": "markdown",
   "id": "09f9ab5b",
   "metadata": {},
   "source": [
    "### E. $\\mathbb{P}(2 < \\tau_2 < 3.2)$"
   ]
  },
  {
   "cell_type": "code",
   "execution_count": 13,
   "id": "713940eb",
   "metadata": {},
   "outputs": [
    {
     "name": "stdout",
     "output_type": "stream",
     "text": [
      "P(2 < tau_2 < 3.2)= 0.2051\n"
     ]
    }
   ],
   "source": [
    "tau2_series= pd.Series(tau2)\n",
    "print('P(2 < tau_2 < 3.2)=', len(tau2_series[tau2_series.between(2,3.2, inclusive='neither')])/N)"
   ]
  },
  {
   "cell_type": "markdown",
   "id": "892d0e21",
   "metadata": {},
   "source": [
    "## 2. For the compound Poisson process $X=(X(t),t \\geq 0) $ corresponding to the Poisson process from Theory 1, with jumps $Z_k$ having exponential distribution with mean 2.5, find:"
   ]
  },
  {
   "cell_type": "markdown",
   "id": "f78616a3",
   "metadata": {},
   "source": [
    "### A. $\\mathbb{E}[ X(2) ]$"
   ]
  },
  {
   "cell_type": "code",
   "execution_count": 14,
   "id": "b4b4ab3a",
   "metadata": {},
   "outputs": [],
   "source": [
    "values_at_X2 = []\n",
    "\n",
    "for i in range(N):\n",
    "    values_at_X2.append(find_value_at_T(compound_events[i], taus[i], 2))\n"
   ]
  },
  {
   "cell_type": "code",
   "execution_count": 15,
   "id": "54e343e2",
   "metadata": {},
   "outputs": [
    {
     "name": "stdout",
     "output_type": "stream",
     "text": [
      "E[X(2)]= 5.983706190626745\n"
     ]
    }
   ],
   "source": [
    "print('E[X(2)]=', np.mean(values_at_X2))"
   ]
  },
  {
   "cell_type": "markdown",
   "id": "784999fe",
   "metadata": {},
   "source": [
    "### B. $Var(X(2))$ "
   ]
  },
  {
   "cell_type": "code",
   "execution_count": 16,
   "id": "bb0e435b",
   "metadata": {},
   "outputs": [
    {
     "name": "stdout",
     "output_type": "stream",
     "text": [
      "Var(X(2))= 30.143141569183378\n"
     ]
    }
   ],
   "source": [
    "print('Var(X(2))=', np.var(values_at_X2))"
   ]
  },
  {
   "cell_type": "markdown",
   "id": "9bb0eed3",
   "metadata": {},
   "source": [
    "### D. $\\mathbb{E}[e^{-3X(2)}]$ "
   ]
  },
  {
   "cell_type": "code",
   "execution_count": 17,
   "id": "d1aee434",
   "metadata": {},
   "outputs": [
    {
     "name": "stdout",
     "output_type": "stream",
     "text": [
      "E[e^(-3X(2))]= 0.1235090615340705\n"
     ]
    }
   ],
   "source": [
    "print('E[e^(-3X(2))]=',np.mean(np.exp(-3*np.array(values_at_X2))))"
   ]
  },
  {
   "cell_type": "markdown",
   "id": "804af4b3",
   "metadata": {},
   "source": [
    "## 3. Using the Central Limit Theorem, for the compound Poisson process from Theory 2, find the approximate value of $u$ such that $X(1000)<u$ with probability 99\\%. This $u$ is the 99\\% quantile of $X(1000)$"
   ]
  },
  {
   "cell_type": "code",
   "execution_count": 18,
   "id": "7f0eb5a7",
   "metadata": {},
   "outputs": [],
   "source": [
    "values_at_t1000 = []\n",
    "\n",
    "for i in range(N):\n",
    "    values_at_t1000.append(find_value_at_T(compound_events[i], taus[i], 1000))"
   ]
  },
  {
   "cell_type": "code",
   "execution_count": 19,
   "id": "61d09074",
   "metadata": {},
   "outputs": [
    {
     "name": "stdout",
     "output_type": "stream",
     "text": [
      "u= 3288.081320425806\n"
     ]
    }
   ],
   "source": [
    "print('u=', np.percentile(values_at_t1000,99))"
   ]
  }
 ],
 "metadata": {
  "kernelspec": {
   "display_name": "Python 3 (ipykernel)",
   "language": "python",
   "name": "python3"
  },
  "language_info": {
   "codemirror_mode": {
    "name": "ipython",
    "version": 3
   },
   "file_extension": ".py",
   "mimetype": "text/x-python",
   "name": "python",
   "nbconvert_exporter": "python",
   "pygments_lexer": "ipython3",
   "version": "3.8.15"
  }
 },
 "nbformat": 4,
 "nbformat_minor": 5
}
